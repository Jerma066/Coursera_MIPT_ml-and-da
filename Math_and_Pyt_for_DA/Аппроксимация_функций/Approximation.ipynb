{
 "cells": [
  {
   "cell_type": "code",
   "execution_count": 53,
   "metadata": {},
   "outputs": [],
   "source": [
    "import math\n",
    "import numpy as np\n",
    "import scipy.linalg\n",
    "from matplotlib import pyplot as plt"
   ]
  },
  {
   "cell_type": "markdown",
   "metadata": {},
   "source": [
    "1. Зададим уравнение о котором идет речь в задаче:"
   ]
  },
  {
   "cell_type": "code",
   "execution_count": 54,
   "metadata": {},
   "outputs": [],
   "source": [
    "def f(x):\n",
    "    y = math.sin(x/5.)*math.exp(x/10.) + 5*math.exp(-x/2.)\n",
    "    return y"
   ]
  },
  {
   "cell_type": "markdown",
   "metadata": {},
   "source": [
    "2. Реализация матрицы заполненной степенями точек переданной в функцию"
   ]
  },
  {
   "cell_type": "code",
   "execution_count": 55,
   "metadata": {},
   "outputs": [],
   "source": [
    "#Дан массив точек, матрица заполняется посторчно степенями массива этих точек\n",
    "def get_matrix(x_points):\n",
    "    n = len(x_points)\n",
    "    matrix = []\n",
    "    \n",
    "    #Проходим по всем точкам\n",
    "    for x in x_points:\n",
    "        row = []\n",
    "        #Индекс бежит по всем точкам [0, количество точек]\n",
    "        for i in range(n):\n",
    "            row.append(x**i)\n",
    "            \n",
    "        matrix.append(row)\n",
    "    return np.array(matrix)"
   ]
  },
  {
   "cell_type": "markdown",
   "metadata": {},
   "source": [
    "3. Как известно, многочлен степени n (то есть w_0 + w_1 x + w_2 x^2 + ... + w_n x^n) однозначно определяется любыми n + 1          различными точками, через которые он проходит. Таким образом, когда мы найдем коэффициенты (параметр w в функции) с помощью    scipy.linalg, то сможем использовать многочлен для точек (параметр x_points) для подсчета значения y_curr."
   ]
  },
  {
   "cell_type": "code",
   "execution_count": 56,
   "metadata": {},
   "outputs": [],
   "source": [
    "def get_approximate_values(w, x_points):\n",
    "    y = []\n",
    "    for x in x_points:\n",
    "        y_curr = 0\n",
    "        for i in range(len(w)):\n",
    "            y_curr += w[i]*(x ** i)\n",
    "        y.append(y_curr)\n",
    "    return y"
   ]
  },
  {
   "cell_type": "markdown",
   "metadata": {},
   "source": [
    "4. Решим задачу поиска коэффициентов с помощью (решения система Ax = y) с помощью функции scipy.linalg.solve. \n",
    "   В задаче для scipy.linalg неизвестными являются коэффициенты перед стпенями y. Их мы и ищем. Система представлена в задании."
   ]
  },
  {
   "cell_type": "code",
   "execution_count": 57,
   "metadata": {},
   "outputs": [],
   "source": [
    "x_2 = [1, 15]\n",
    "A_2 = get_matrix(x_2)\n",
    "y_2 = np.array(map(f, x_2))\n",
    "\n",
    "w_2 = scipy.linalg.solve(A_2, y_2)\n",
    "\n",
    "#Получив значения w, найдем аппроксимационное значения y из многочлена \n",
    "y_approx_2 = get_approximate_values(w_2, x)"
   ]
  },
  {
   "cell_type": "code",
   "execution_count": 58,
   "metadata": {},
   "outputs": [],
   "source": [
    "x_3 = [1, 8, 15]\n",
    "A_3 = get_matrix(x_3)\n",
    "y_3 = np.array(map(f, x_3))\n",
    "w_3 = scipy.linalg.solve(A_3, y_3)\n",
    "y_approx_3 = get_approximate_values(w_3, x)"
   ]
  },
  {
   "cell_type": "code",
   "execution_count": 59,
   "metadata": {},
   "outputs": [],
   "source": [
    "x_4 = [1, 4, 10, 15]\n",
    "A_4 = get_matrix(x_4)\n",
    "y_4 = np.array(map(f, x_4))\n",
    "w_4 = scipy.linalg.solve(A_4, y_4)\n",
    "y_approx_4 = get_approximate_values(w_4, x)"
   ]
  },
  {
   "cell_type": "code",
   "execution_count": 60,
   "metadata": {},
   "outputs": [
    {
     "data": {
      "text/plain": [
       "[<matplotlib.lines.Line2D at 0x92a4828>]"
      ]
     },
     "execution_count": 60,
     "metadata": {},
     "output_type": "execute_result"
    },
    {
     "data": {
      "image/png": "[encoded data removed]",
      "text/plain": [
       "<Figure size 432x288 with 1 Axes>"
      ]
     },
     "metadata": {
      "needs_background": "light"
     },
     "output_type": "display_data"
    }
   ],
   "source": [
    "plt.plot(x, y)\n",
    "plt.plot(x, y_approx_2)\n",
    "plt.plot(x, y_approx_3)\n",
    "plt.plot(x, y_approx_4)"
   ]
  },
  {
   "cell_type": "code",
   "execution_count": 61,
   "metadata": {
    "scrolled": true
   },
   "outputs": [
    {
     "name": "stdout",
     "output_type": "stream",
     "text": [
      "[ 4.36264154 -1.29552587  0.19333685 -0.00823565]\n"
     ]
    }
   ],
   "source": [
    "print w_4"
   ]
  },
  {
   "cell_type": "markdown",
   "metadata": {},
   "source": [
    "5. Запишите полученные числа в файл, разделив пробелами. Обратите внимание, что файл должен состоять из одной строки, в конце      которой не должно быть переноса. Пример файла с решением вы можете найти в конце задания (submission-2.txt)."
   ]
  },
  {
   "cell_type": "code",
   "execution_count": 73,
   "metadata": {},
   "outputs": [],
   "source": [
    "#запись строки в файл, открытый в режиме 'w'\n",
    "file_obj = open('submission-2.txt', 'w')\n",
    "\n",
    "buf = ''\n",
    "for num in w_4:\n",
    "    buf += str(num) + ' '    \n",
    "buf = buf[0:-1]    \n",
    "\n",
    "file_obj.write(buf)\n",
    "\n",
    "file_obj.close()"
   ]
  }
 ],
 "metadata": {
  "kernelspec": {
   "display_name": "Python 2",
   "language": "python",
   "name": "python2"
  },
  "language_info": {
   "codemirror_mode": {
    "name": "ipython",
    "version": 2
   },
   "file_extension": ".py",
   "mimetype": "text/x-python",
   "name": "python",
   "nbconvert_exporter": "python",
   "pygments_lexer": "ipython2",
   "version": "2.7.16"
  }
 },
 "nbformat": 4,
 "nbformat_minor": 2
}
