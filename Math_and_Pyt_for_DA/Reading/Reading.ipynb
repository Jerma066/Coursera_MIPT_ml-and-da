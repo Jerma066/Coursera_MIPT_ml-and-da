{
 "cells": [
  {
   "cell_type": "code",
   "execution_count": 51,
   "metadata": {},
   "outputs": [],
   "source": [
    "import numpy as np\n",
    "from scipy import spatial\n",
    "import re"
   ]
  },
  {
   "cell_type": "markdown",
   "metadata": {},
   "source": [
    "1. Скачайте файл с предложениями (sentences.txt).\n",
    "\n",
    "2. Каждая строка в файле соответствует одному предложению. Считайте их, приведите каждую к нижнему регистру с помощью строковой    функции lower().\n",
    "\n",
    "3. Произведите токенизацию, то есть разбиение текстов на слова. Для этого можно воспользоваться регулярным выражением, которое    считает разделителем любой символ, не являющийся буквой: re.split('[^a-z]', t). Не забудьте удалить пустые слова после          разделения."
   ]
  },
  {
   "cell_type": "code",
   "execution_count": 52,
   "metadata": {},
   "outputs": [],
   "source": [
    "token_lines = []\n",
    "\n",
    "file_obj = open('sentences.txt', 'r')\n",
    "for line in file_obj:\n",
    "    line = line.lower()\n",
    "    \n",
    "    \n",
    "    #Произведите токенизацию, то есть разбиение текстов на слова. \n",
    "    #регулярное выражение, которое считывает разделителем любой символ, не являющийся буквой: re.split('[^a-z]', t).\n",
    "    token_line = re.split('[^a-z]', line) \n",
    "    #удаление пустые слова после разделения.\n",
    "    token_line = [x for x in token_line if x]\n",
    "    \n",
    "    token_lines.append(token_line)\n"
   ]
  },
  {
   "cell_type": "markdown",
   "metadata": {},
   "source": [
    "4. Составьте список всех слов, встречающихся в предложениях. Сопоставьте каждому слову индекс от нуля до (d - 1), где d — число    различных слов в предложениях. Для этого удобно воспользоваться структурой dict."
   ]
  },
  {
   "cell_type": "code",
   "execution_count": 53,
   "metadata": {},
   "outputs": [],
   "source": [
    "#Воспользуемся структурой dict.\n",
    "words = {}\n",
    "current_index = 0\n",
    "\n",
    "for token_line in token_lines:\n",
    "    for word in token_line:\n",
    "        if word not in words:\n",
    "            words[word] = current_index\n",
    "            current_index +=1\n",
    "        "
   ]
  },
  {
   "cell_type": "markdown",
   "metadata": {},
   "source": [
    "5. Создайте матрицу размера n * d, где n — число предложений. Заполните ее: элемент с индексом (i, j) в этой матрице должен        быть равен количеству вхождений j-го слова в i-е предложение. У вас должна получиться матрица размера 22 * 254."
   ]
  },
  {
   "cell_type": "code",
   "execution_count": 54,
   "metadata": {},
   "outputs": [],
   "source": [
    "number_of_words = len(words)\n",
    "number_of_sentences = len(token_lines)\n",
    "\n",
    "#Создадим матрицу размера n * d, где n — число предложений.\n",
    "matrix = np.zeros((number_of_sentences, number_of_words))\n",
    "\n",
    "for i in range(number_of_sentences):\n",
    "    tokens = token_lines[i]\n",
    "    \n",
    "    for word in tokens:\n",
    "        matrix[i][words[word]] += 1\n",
    "        "
   ]
  },
  {
   "cell_type": "markdown",
   "metadata": {},
   "source": [
    "6. Найдите косинусное расстояние от предложения в самой первой строке (In comparison to dogs, cats have not undergone...) до      всех остальных с помощью функции scipy.spatial.distance.cosine. Какие номера у двух предложений, ближайших к нему по этому      расстоянию (строки нумеруются с нуля)? Эти два числа и будут ответами на задание. Само предложение (In comparison to dogs,      cats have not undergone... ) имеет индекс 0."
   ]
  },
  {
   "cell_type": "code",
   "execution_count": 55,
   "metadata": {},
   "outputs": [],
   "source": [
    "distances = {}\n",
    "\n",
    "first_sentence_metric = matrix[0, :]\n",
    "for i in range(number_of_sentences):\n",
    "    compared_sentence_metric = matrix[i, :]\n",
    "    \n",
    "    #Функция scipy.spatial.distance.cosine\n",
    "    distances[i] = spatial.distance.cosine(first_sentence_metric, compared_sentence_metric)"
   ]
  },
  {
   "cell_type": "code",
   "execution_count": 56,
   "metadata": {},
   "outputs": [
    {
     "data": {
      "text/plain": [
       "[(0, 0.0),\n",
       " (6, 0.7327387580875756),\n",
       " (4, 0.7770887149698589),\n",
       " (21, 0.8250364469440588),\n",
       " (10, 0.8328165362273942),\n",
       " (12, 0.8396432548525454),\n",
       " (16, 0.8406361854220809),\n",
       " (20, 0.8427572744917122),\n",
       " (2, 0.8644738145642124),\n",
       " (13, 0.8703592552895671),\n",
       " (14, 0.8740118423302576),\n",
       " (11, 0.8804771390665607),\n",
       " (8, 0.8842724875284311),\n",
       " (19, 0.8885443574849294),\n",
       " (3, 0.8951715163278082),\n",
       " (9, 0.9055088817476932),\n",
       " (7, 0.9258750683338899),\n",
       " (5, 0.9402385695332803),\n",
       " (15, 0.9442721787424647),\n",
       " (18, 0.9442721787424647),\n",
       " (1, 0.9527544408738466),\n",
       " (17, 0.956644501523794)]"
      ]
     },
     "execution_count": 56,
     "metadata": {},
     "output_type": "execute_result"
    }
   ],
   "source": [
    "sorted(distances.items(), key=lambda x: (x[1],x[0]), reverse=False)"
   ]
  },
  {
   "cell_type": "markdown",
   "metadata": {},
   "source": [
    "7. Запишите полученные числа в файл, разделив пробелом. Обратите внимание, что файл должен состоять из одной строки, в конце      которой не должно быть переноса. Пример файла с решением вы можете найти в конце задания (submission-1.txt)."
   ]
  },
  {
   "cell_type": "code",
   "execution_count": 60,
   "metadata": {},
   "outputs": [],
   "source": [
    "#запись строки в файл, открытый в режиме 'w'\n",
    "file_obj = open('submission-1.txt', 'w')\n",
    "\n",
    "buf = str(6) + ' ' + str(4)\n",
    "\n",
    "file_obj.write(buf)\n",
    "\n",
    "file_obj.close()"
   ]
  },
  {
   "cell_type": "markdown",
   "metadata": {},
   "source": [
    "8. Совпадают ли ближайшие два предложения по тематике с первым? \n",
    "   Совпадают ли тематики у следующих по близости предложений?"
   ]
  },
  {
   "cell_type": "markdown",
   "metadata": {},
   "source": [
    "На мой взгялд да, они достаточно похожи по смыслу. Полученные предложения:\n",
    "    1. In comparison to dogs, cats have not undergone major changes during the domestication process.\n",
    "    2. Cats can hear sounds too faint or too high in frequency for human ears, such as those made by mice and other small animals.\n",
    "    3. The domesticated cat and its closest wild ancestor are both diploid organisms that possess 38 chromosomes and roughly 20,000 genes."
   ]
  }
 ],
 "metadata": {
  "kernelspec": {
   "display_name": "Python 2",
   "language": "python",
   "name": "python2"
  },
  "language_info": {
   "codemirror_mode": {
    "name": "ipython",
    "version": 2
   },
   "file_extension": ".py",
   "mimetype": "text/x-python",
   "name": "python",
   "nbconvert_exporter": "python",
   "pygments_lexer": "ipython2",
   "version": "2.7.16"
  }
 },
 "nbformat": 4,
 "nbformat_minor": 2
}
